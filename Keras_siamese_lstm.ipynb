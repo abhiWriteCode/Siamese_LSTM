{
 "cells": [
  {
   "cell_type": "code",
   "execution_count": 1,
   "metadata": {},
   "outputs": [],
   "source": [
    "import numpy as np\n",
    "import pandas as pd\n",
    "from keras.layers import Activation, Conv1D, Conv2D\n",
    "from keras.layers import Input, Lambda, Dense, Dropout, Convolution2D, MaxPooling2D, Flatten, MaxPooling1D\n",
    "from keras.layers import BatchNormalization, LSTM\n",
    "from keras.models import Sequential, Model\n",
    "from keras import backend as K\n",
    "from keras.layers.embeddings import Embedding\n",
    "import keras"
   ]
  },
  {
   "cell_type": "code",
   "execution_count": 2,
   "metadata": {},
   "outputs": [],
   "source": [
    "def read_glove_vecs(glove_file):\n",
    "    with open(glove_file, 'r',encoding=\"utf8\") as f:\n",
    "        words = set()\n",
    "        word_to_vec_map = {}\n",
    "        for line in f:\n",
    "            line = line.strip().split()\n",
    "            curr_word = line[0]\n",
    "            words.add(curr_word)\n",
    "            word_to_vec_map[curr_word] = np.array(line[1:], dtype=np.float64)\n",
    "        \n",
    "        i = 1\n",
    "        words_to_index = {}\n",
    "        index_to_words = {}\n",
    "        for w in sorted(words):\n",
    "            words_to_index[w] = i\n",
    "            index_to_words[i] = w\n",
    "            i = i + 1\n",
    "    return words_to_index, index_to_words, word_to_vec_map\n"
   ]
  },
  {
   "cell_type": "code",
   "execution_count": 3,
   "metadata": {},
   "outputs": [],
   "source": [
    "word_to_index, index_to_word, word_to_vec_map = read_glove_vecs('glove.6B.50d.txt')"
   ]
  },
  {
   "cell_type": "code",
   "execution_count": 38,
   "metadata": {},
   "outputs": [],
   "source": [
    "\n",
    "def sentences_to_indices(X, word_to_index, max_len):\n",
    "    m = X.shape[0]                                   # number of training examples\n",
    "    X_indices = np.zeros((m, max_len))\n",
    "    for i in range(m):                               # loop over training examples\n",
    "        sentence_words =[word.lower().replace('\\t', '') for word in X[i].split(' ') if word.replace('\\t', '') != '']\n",
    "        j = 0\n",
    "        for w in sentence_words:\n",
    "            try:\n",
    "                X_indices[i, j] =  word_to_index[w]\n",
    "            except:\n",
    "                pass\n",
    "            finally:    \n",
    "                j = j+1\n",
    "    return X_indices"
   ]
  },
  {
   "cell_type": "code",
   "execution_count": 5,
   "metadata": {},
   "outputs": [],
   "source": [
    "\n",
    "def pretrained_embedding_layer(word_to_vec_map, word_to_index):\n",
    "    \n",
    "    vocab_len = len(word_to_index) + 1                  # adding 1 to fit Keras embedding (requirement)\n",
    "    emb_dim = word_to_vec_map[\"anything\"].shape[0]      # define dimensionality of your GloVe word vectors (= 50)\n",
    "    emb_matrix = np.zeros((vocab_len, emb_dim))\n",
    "    for word, index in word_to_index.items():\n",
    "        emb_matrix[index, :] = word_to_vec_map[word]\n",
    "    embedding_layer = Embedding(vocab_len, emb_dim, trainable=False)\n",
    "    embedding_layer.build((None,))\n",
    "    embedding_layer.set_weights([emb_matrix])\n",
    "    \n",
    "    return embedding_layer"
   ]
  },
  {
   "cell_type": "code",
   "execution_count": 23,
   "metadata": {},
   "outputs": [],
   "source": [
    "n_hidden = 256\n",
    "n_samples = 100\n",
    "n_timesteps = 16\n",
    "\n",
    "def euclidean_distance(inputs):\n",
    "    assert len(inputs) == 2, \\\n",
    "        'Euclidean distance needs 2 inputs, %d given' % len(inputs)\n",
    "    u, v = inputs\n",
    "    return K.sqrt(K.sum((K.square(u - v)), axis=1, keepdims=True))\n",
    "\n",
    "def eucl_dist_output_shape(shapes):\n",
    "    shape1, shape2 = shapes\n",
    "    return (shape1[0], 1)    "
   ]
  },
  {
   "cell_type": "code",
   "execution_count": 20,
   "metadata": {},
   "outputs": [],
   "source": [
    "def model_lstm(word_to_vec_map, word_to_index):\n",
    "    input_dim1 = (12,)\n",
    "    input_dim2 = (50,)\n",
    "    input_a = Input(shape=input_dim1)\n",
    "    input_b = Input(shape=input_dim2)\n",
    "    embedding_layer1 = pretrained_embedding_layer(word_to_vec_map, word_to_index)\n",
    "    embedding_layer2 = pretrained_embedding_layer(word_to_vec_map, word_to_index)\n",
    "    embeddings_a = embedding_layer1(input_a)\n",
    "    embeddings_b = embedding_layer2(input_b)\n",
    "    X1 = LSTM(128, return_sequences=True)(embeddings_a)\n",
    "    X1 = Dropout(0.5)(X1)\n",
    "    X1 = LSTM(128, return_sequences=False)(X1)\n",
    "    X1 = Dropout(0.5)(X1)\n",
    "    X1 = Dense(5, activation=None)(X1)\n",
    "    X1= Activation('softmax')(X1)\n",
    "\n",
    "    X2 = LSTM(128, return_sequences=True)(embeddings_b)\n",
    "    X2 = Dropout(0.5)(X2)\n",
    "    X2 = LSTM(128, return_sequences=False)(X2)\n",
    "    X2 = Dropout(0.5)(X2)\n",
    "    X2 = Dense(5, activation=None)(X2)\n",
    "    X2= Activation('softmax')(X2)\n",
    "\n",
    "    distance = Lambda(euclidean_distance, output_shape=eucl_dist_output_shape)([X1, X2])\n",
    "\n",
    "    model = Model(input=[input_a, input_b], output=distance)\n",
    "    return model"
   ]
  },
  {
   "cell_type": "code",
   "execution_count": 21,
   "metadata": {},
   "outputs": [
    {
     "name": "stdout",
     "output_type": "stream",
     "text": [
      "__________________________________________________________________________________________________\n",
      "Layer (type)                    Output Shape         Param #     Connected to                     \n",
      "==================================================================================================\n",
      "input_9 (InputLayer)            (None, 12)           0                                            \n",
      "__________________________________________________________________________________________________\n",
      "input_10 (InputLayer)           (None, 50)           0                                            \n",
      "__________________________________________________________________________________________________\n",
      "embedding_4 (Embedding)         (None, 12, 50)       20000050    input_9[0][0]                    \n",
      "__________________________________________________________________________________________________\n",
      "embedding_5 (Embedding)         (None, 50, 50)       20000050    input_10[0][0]                   \n",
      "__________________________________________________________________________________________________\n",
      "lstm_9 (LSTM)                   (None, 12, 128)      91648       embedding_4[0][0]                \n",
      "__________________________________________________________________________________________________\n",
      "lstm_11 (LSTM)                  (None, 50, 128)      91648       embedding_5[0][0]                \n",
      "__________________________________________________________________________________________________\n",
      "dropout_9 (Dropout)             (None, 12, 128)      0           lstm_9[0][0]                     \n",
      "__________________________________________________________________________________________________\n",
      "dropout_11 (Dropout)            (None, 50, 128)      0           lstm_11[0][0]                    \n",
      "__________________________________________________________________________________________________\n",
      "lstm_10 (LSTM)                  (None, 128)          131584      dropout_9[0][0]                  \n",
      "__________________________________________________________________________________________________\n",
      "lstm_12 (LSTM)                  (None, 128)          131584      dropout_11[0][0]                 \n",
      "__________________________________________________________________________________________________\n",
      "dropout_10 (Dropout)            (None, 128)          0           lstm_10[0][0]                    \n",
      "__________________________________________________________________________________________________\n",
      "dropout_12 (Dropout)            (None, 128)          0           lstm_12[0][0]                    \n",
      "__________________________________________________________________________________________________\n",
      "dense_5 (Dense)                 (None, 5)            645         dropout_10[0][0]                 \n",
      "__________________________________________________________________________________________________\n",
      "dense_6 (Dense)                 (None, 5)            645         dropout_12[0][0]                 \n",
      "__________________________________________________________________________________________________\n",
      "activation_5 (Activation)       (None, 5)            0           dense_5[0][0]                    \n",
      "__________________________________________________________________________________________________\n",
      "activation_6 (Activation)       (None, 5)            0           dense_6[0][0]                    \n",
      "__________________________________________________________________________________________________\n",
      "lambda_3 (Lambda)               (None, 1)            0           activation_5[0][0]               \n",
      "                                                                 activation_6[0][0]               \n",
      "==================================================================================================\n",
      "Total params: 40,447,854\n",
      "Trainable params: 447,754\n",
      "Non-trainable params: 40,000,100\n",
      "__________________________________________________________________________________________________\n"
     ]
    },
    {
     "name": "stderr",
     "output_type": "stream",
     "text": [
      "e:\\users\\hp\\miniconda3\\lib\\site-packages\\ipykernel_launcher.py:26: UserWarning: Update your `Model` call to the Keras 2 API: `Model(inputs=[<tf.Tenso..., outputs=Tensor(\"la...)`\n"
     ]
    }
   ],
   "source": [
    "model = model_lstm(word_to_vec_map, word_to_index)\n",
    "model.summary()"
   ]
  },
  {
   "cell_type": "code",
   "execution_count": 42,
   "metadata": {},
   "outputs": [],
   "source": [
    "opt = keras.optimizers.adam(lr=0.001, decay=1e-10)\n",
    "model.compile(loss='binary_crossentropy', optimizer=opt, metrics=['accuracy'])"
   ]
  },
  {
   "cell_type": "code",
   "execution_count": 27,
   "metadata": {},
   "outputs": [],
   "source": [
    "data = pd.read_csv('modified_one_positive_one_negative.tsv', sep='\\t')\n",
    "data = data.sample(n=100)\n",
    "X_train_q = data['In'].values\n",
    "X_train_a = data['Out'].values\n",
    "Y_train = data['Val'].values"
   ]
  },
  {
   "cell_type": "code",
   "execution_count": 43,
   "metadata": {},
   "outputs": [
    {
     "name": "stdout",
     "output_type": "stream",
     "text": [
      "Train on 90 samples, validate on 10 samples\n",
      "Epoch 1/1\n",
      "90/90 [==============================] - 5s 55ms/step - loss: 1.6564 - acc: 0.5778 - val_loss: 1.5875 - val_acc: 0.4000\n"
     ]
    }
   ],
   "source": [
    "X_train_question = sentences_to_indices(X_train_q, word_to_index, 12) #X_train_q is list of sentences\n",
    "X_train_answers =  sentences_to_indices(X_train_a, word_to_index, 50) #X_train_a list of sentences\n",
    "nb_epoch = 1\n",
    "history = model.fit([X_train_question, X_train_answers], Y_train,shuffle=True,batch_size=25, epochs=nb_epoch, verbose=1,validation_split=0.1)"
   ]
  },
  {
   "cell_type": "code",
   "execution_count": null,
   "metadata": {},
   "outputs": [],
   "source": [
    "pred = model.predict([test_ques_vec, test_ans_vec], verbose=1)\n",
    "\n"
   ]
  }
 ],
 "metadata": {
  "kernelspec": {
   "display_name": "Python 3",
   "language": "python",
   "name": "python3"
  },
  "language_info": {
   "codemirror_mode": {
    "name": "ipython",
    "version": 3
   },
   "file_extension": ".py",
   "mimetype": "text/x-python",
   "name": "python",
   "nbconvert_exporter": "python",
   "pygments_lexer": "ipython3",
   "version": "3.6.5"
  }
 },
 "nbformat": 4,
 "nbformat_minor": 2
}
